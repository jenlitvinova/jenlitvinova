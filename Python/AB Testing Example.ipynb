{
 "cells": [
  {
   "cell_type": "code",
   "execution_count": 1,
   "metadata": {},
   "outputs": [
    {
     "name": "stderr",
     "output_type": "stream",
     "text": [
      "C:\\Users\\jenli\\Anaconda3\\lib\\site-packages\\statsmodels\\tools\\_testing.py:19: FutureWarning: pandas.util.testing is deprecated. Use the functions in the public API at pandas.testing instead.\n",
      "  import pandas.util.testing as tm\n"
     ]
    }
   ],
   "source": [
    "import numpy as np\n",
    "import pandas as pd\n",
    "import seaborn as sns\n",
    "import math\n",
    "import statsmodels.stats.api as sms\n",
    "import scipy.stats as st"
   ]
  },
  {
   "cell_type": "code",
   "execution_count": 2,
   "metadata": {},
   "outputs": [],
   "source": [
    "#Read csv\n",
    "data= pd.read_csv(\"AB Test Case Study/sample_data.csv\")"
   ]
  },
  {
   "cell_type": "code",
   "execution_count": 3,
   "metadata": {},
   "outputs": [
    {
     "data": {
      "text/html": [
       "<div>\n",
       "<style scoped>\n",
       "    .dataframe tbody tr th:only-of-type {\n",
       "        vertical-align: middle;\n",
       "    }\n",
       "\n",
       "    .dataframe tbody tr th {\n",
       "        vertical-align: top;\n",
       "    }\n",
       "\n",
       "    .dataframe thead th {\n",
       "        text-align: right;\n",
       "    }\n",
       "</style>\n",
       "<table border=\"1\" class=\"dataframe\">\n",
       "  <thead>\n",
       "    <tr style=\"text-align: right;\">\n",
       "      <th></th>\n",
       "      <th>user_id</th>\n",
       "      <th>experiment_variant_code</th>\n",
       "      <th>new_return_visitor</th>\n",
       "      <th>platform_type</th>\n",
       "      <th>posa_super_region</th>\n",
       "      <th>marketing_channel</th>\n",
       "      <th>orders</th>\n",
       "      <th>room_nights</th>\n",
       "      <th>booking_gbv</th>\n",
       "    </tr>\n",
       "  </thead>\n",
       "  <tbody>\n",
       "    <tr>\n",
       "      <th>0</th>\n",
       "      <td>1</td>\n",
       "      <td>VARIANT</td>\n",
       "      <td>RETURN</td>\n",
       "      <td>TABWEB</td>\n",
       "      <td>EMEA</td>\n",
       "      <td>SEM</td>\n",
       "      <td>0</td>\n",
       "      <td>0</td>\n",
       "      <td>0.0</td>\n",
       "    </tr>\n",
       "    <tr>\n",
       "      <th>1</th>\n",
       "      <td>2</td>\n",
       "      <td>CONTROL</td>\n",
       "      <td>NEW</td>\n",
       "      <td>MOBILE</td>\n",
       "      <td>APAC</td>\n",
       "      <td>SEM</td>\n",
       "      <td>0</td>\n",
       "      <td>0</td>\n",
       "      <td>0.0</td>\n",
       "    </tr>\n",
       "    <tr>\n",
       "      <th>2</th>\n",
       "      <td>3</td>\n",
       "      <td>VARIANT</td>\n",
       "      <td>NEW</td>\n",
       "      <td>MOBILE</td>\n",
       "      <td>UNKNOWN</td>\n",
       "      <td>SEM</td>\n",
       "      <td>0</td>\n",
       "      <td>0</td>\n",
       "      <td>0.0</td>\n",
       "    </tr>\n",
       "    <tr>\n",
       "      <th>3</th>\n",
       "      <td>4</td>\n",
       "      <td>VARIANT</td>\n",
       "      <td>RETURN</td>\n",
       "      <td>DESKTOP</td>\n",
       "      <td>APAC</td>\n",
       "      <td>META</td>\n",
       "      <td>0</td>\n",
       "      <td>0</td>\n",
       "      <td>0.0</td>\n",
       "    </tr>\n",
       "    <tr>\n",
       "      <th>4</th>\n",
       "      <td>5</td>\n",
       "      <td>CONTROL</td>\n",
       "      <td>NEW</td>\n",
       "      <td>MOBILE</td>\n",
       "      <td>EMEA</td>\n",
       "      <td>SEM</td>\n",
       "      <td>0</td>\n",
       "      <td>0</td>\n",
       "      <td>0.0</td>\n",
       "    </tr>\n",
       "  </tbody>\n",
       "</table>\n",
       "</div>"
      ],
      "text/plain": [
       "   user_id experiment_variant_code new_return_visitor platform_type  \\\n",
       "0        1                 VARIANT             RETURN        TABWEB   \n",
       "1        2                 CONTROL                NEW        MOBILE   \n",
       "2        3                 VARIANT                NEW        MOBILE   \n",
       "3        4                 VARIANT             RETURN       DESKTOP   \n",
       "4        5                 CONTROL                NEW        MOBILE   \n",
       "\n",
       "  posa_super_region marketing_channel  orders  room_nights  booking_gbv  \n",
       "0              EMEA               SEM       0            0          0.0  \n",
       "1              APAC               SEM       0            0          0.0  \n",
       "2           UNKNOWN               SEM       0            0          0.0  \n",
       "3              APAC              META       0            0          0.0  \n",
       "4              EMEA               SEM       0            0          0.0  "
      ]
     },
     "execution_count": 3,
     "metadata": {},
     "output_type": "execute_result"
    }
   ],
   "source": [
    "#Preview data\n",
    "data.head()"
   ]
  },
  {
   "cell_type": "markdown",
   "metadata": {},
   "source": [
    "# Data Prep"
   ]
  },
  {
   "cell_type": "code",
   "execution_count": 4,
   "metadata": {},
   "outputs": [],
   "source": [
    "#Copy original data to a new data frame that will be manipulated\n",
    "df = data.copy()"
   ]
  },
  {
   "cell_type": "code",
   "execution_count": 5,
   "metadata": {},
   "outputs": [],
   "source": [
    "#Clean data by removing rows with negative booking values, orders, room nights \n",
    "df['invalid'] = np.where(\n",
    "    (df['booking_gbv'] == 0) & (df['orders'] == 0) & (df['room_nights'] == 0), 0, np.where(\n",
    "    (df['booking_gbv'] > 0) & (df['orders'] > 0) & (df['room_nights'] > 0), 0, 1))"
   ]
  },
  {
   "cell_type": "code",
   "execution_count": 6,
   "metadata": {},
   "outputs": [],
   "source": [
    "#Drop invalid rows\n",
    "df.drop(df[df['invalid'] == 1].index, inplace = True)"
   ]
  },
  {
   "cell_type": "code",
   "execution_count": 7,
   "metadata": {},
   "outputs": [
    {
     "data": {
      "text/plain": [
       "19589"
      ]
     },
     "execution_count": 7,
     "metadata": {},
     "output_type": "execute_result"
    }
   ],
   "source": [
    "#Check how many rows were removed from the initial data set\n",
    "len(data)-len(df)"
   ]
  },
  {
   "cell_type": "code",
   "execution_count": 8,
   "metadata": {},
   "outputs": [
    {
     "name": "stdout",
     "output_type": "stream",
     "text": [
      "1983912\n",
      "1983912\n"
     ]
    }
   ],
   "source": [
    "#Check how many duplicated users exist and if we need to deduplicate\n",
    "print(df[\"user_id\"].count())\n",
    "print(df[\"user_id\"].nunique())"
   ]
  },
  {
   "cell_type": "code",
   "execution_count": 9,
   "metadata": {},
   "outputs": [],
   "source": [
    "#Reindex data\n",
    "df = df.reset_index(drop = True)"
   ]
  },
  {
   "cell_type": "code",
   "execution_count": 10,
   "metadata": {},
   "outputs": [],
   "source": [
    "#Create purchase flag to show if a purchase occured or not \n",
    "df['converted'] = np.where(\n",
    "    (df['orders'] > 0), 1, 0)"
   ]
  },
  {
   "cell_type": "code",
   "execution_count": 11,
   "metadata": {},
   "outputs": [
    {
     "data": {
      "image/png": "[encoded data removed]",
      "text/plain": [
       "<Figure size 432x288 with 1 Axes>"
      ]
     },
     "metadata": {
      "needs_background": "light"
     },
     "output_type": "display_data"
    }
   ],
   "source": [
    "#Visualize how data clean up impacted control and variant populations\n",
    "ax = sns.countplot(x=\"experiment_variant_code\", data=df)"
   ]
  },
  {
   "cell_type": "code",
   "execution_count": 12,
   "metadata": {},
   "outputs": [
    {
     "data": {
      "text/plain": [
       "CONTROL    992219\n",
       "VARIANT    991693\n",
       "Name: experiment_variant_code, dtype: int64"
      ]
     },
     "execution_count": 12,
     "metadata": {},
     "output_type": "execute_result"
    }
   ],
   "source": [
    "df[\"experiment_variant_code\"].value_counts()"
   ]
  },
  {
   "cell_type": "markdown",
   "metadata": {},
   "source": [
    "We can see that even after data clean-up roughly an equal number of users saw the control and variant design\n"
   ]
  },
  {
   "cell_type": "code",
   "execution_count": 13,
   "metadata": {},
   "outputs": [
    {
     "data": {
      "text/plain": [
       "1    1983912\n",
       "Name: experiment_variant_code, dtype: int64"
      ]
     },
     "execution_count": 13,
     "metadata": {},
     "output_type": "execute_result"
    }
   ],
   "source": [
    "#Checking if the same user was in both control and variant groups (within vs between-subjects comparison)\n",
    "groups_per_user = df.groupby('user_id')['experiment_variant_code'].nunique()\n",
    "groups_per_user.value_counts()"
   ]
  },
  {
   "cell_type": "markdown",
   "metadata": {},
   "source": [
    "No users saw both designs"
   ]
  },
  {
   "cell_type": "code",
   "execution_count": 14,
   "metadata": {},
   "outputs": [],
   "source": [
    "#Calculate proportions and totals\n",
    "mask = (df[\"experiment_variant_code\"] == \"CONTROL\")\n",
    "conversions_control = df[\"converted\"][mask].sum()\n",
    "total_users_control = df[\"converted\"][mask].count()\n",
    "\n",
    "mask = (df[\"experiment_variant_code\"] == \"VARIANT\")\n",
    "conversions_variant = df[\"converted\"][mask].sum()\n",
    "total_users_variant = df[\"converted\"][mask].count()"
   ]
  },
  {
   "cell_type": "code",
   "execution_count": 15,
   "metadata": {},
   "outputs": [
    {
     "name": "stdout",
     "output_type": "stream",
     "text": [
      "Required sample size:  12810  per group\n"
     ]
    }
   ],
   "source": [
    "#Check what sample size is required\n",
    "baseline_rate = conversions_control / total_users_control\n",
    "practical_significance = 0.01 #user defined\n",
    "confidence_level = 0.05 #user defined, for a 95% confidence interval\n",
    "sensitivity = 0.8 #user defined\n",
    "\n",
    "effect_size = sms.proportion_effectsize(baseline_rate, baseline_rate + practical_significance)\n",
    "sample_size = sms.NormalIndPower().solve_power(effect_size = effect_size, power = sensitivity, \n",
    "                                               alpha = confidence_level, ratio=1)\n",
    "\n",
    "print(\"Required sample size: \", round(sample_size), \" per group\")"
   ]
  },
  {
   "cell_type": "markdown",
   "metadata": {},
   "source": [
    "Given sample ( >900K records per group) meets the required sample size"
   ]
  },
  {
   "cell_type": "markdown",
   "metadata": {},
   "source": [
    "### Comparing conversion likelihood"
   ]
  },
  {
   "cell_type": "code",
   "execution_count": 16,
   "metadata": {},
   "outputs": [],
   "source": [
    "count = np.array([conversions_control, conversions_variant])\n",
    "nobs = np.array([total_users_control, total_users_variant])"
   ]
  },
  {
   "cell_type": "code",
   "execution_count": 17,
   "metadata": {},
   "outputs": [
    {
     "name": "stdout",
     "output_type": "stream",
     "text": [
      "Do not reject the null hypothesis at p =  0.16\n"
     ]
    }
   ],
   "source": [
    "#Test for proportions based on chi square test\n",
    "chi2, chi_pval, chi_arr = sms.proportions_chisquare(count, nobs)\n",
    "\n",
    "if chi_pval < confidence_level:\n",
    "    print(\"Reject null hypothesis at p = \",chi_pval)\n",
    "else: \n",
    "    print(\"Do not reject the null hypothesis at p = \", round(chi_pval,2))"
   ]
  },
  {
   "cell_type": "code",
   "execution_count": 18,
   "metadata": {},
   "outputs": [
    {
     "name": "stdout",
     "output_type": "stream",
     "text": [
      "Do not reject the null hypothesis at p =  0.16\n"
     ]
    }
   ],
   "source": [
    "#Test for proportions based on normal (z) test\n",
    "z_stat, z_pval = sms.proportions_ztest(count, nobs, alternative = 'two-sided')\n",
    "\n",
    "if z_pval < confidence_level:\n",
    "    print(\"Reject null hypothesis at p = \",z_pval)\n",
    "else: \n",
    "    print(\"Do not reject the null hypothesis at p = \", round(z_pval,2))"
   ]
  },
  {
   "cell_type": "markdown",
   "metadata": {},
   "source": [
    "Because p-value is higher than 0.05 we can conclude that the difference is not greater than chance. Put\n",
    "another way, we can be about 82% sure that control designs and variant designs have the same conversion rates — a level\n",
    "of certainty that falls within the usual criterion for claiming a significant difference. Control design's conversion rate value of 8.47% is higher only by 0.06, and not statistically distinguishable from Variant design's booking value of 8.53 at this sample size."
   ]
  },
  {
   "cell_type": "markdown",
   "metadata": {},
   "source": [
    "### Calculating confidence interval"
   ]
  },
  {
   "cell_type": "code",
   "execution_count": 19,
   "metadata": {},
   "outputs": [],
   "source": [
    "#Calculate pooled probability\n",
    "prob_pooled = (conversions_control + conversions_variant) / (total_users_control + total_users_variant)"
   ]
  },
  {
   "cell_type": "code",
   "execution_count": 20,
   "metadata": {},
   "outputs": [],
   "source": [
    "#Calculate pooled standard error and margin of error\n",
    "se_pooled = math.sqrt(prob_pooled * (1 - prob_pooled) * (1 / total_users_control + 1 / total_users_variant))\n",
    "margin_of_error = se_pooled * z_stat"
   ]
  },
  {
   "cell_type": "code",
   "execution_count": 21,
   "metadata": {},
   "outputs": [],
   "source": [
    "#Calculate dhat, the estimated difference between probability of conversions in the experiment and control groups\n",
    "d_hat = (conversions_variant / total_users_variant) - (conversions_control / total_users_control)"
   ]
  },
  {
   "cell_type": "code",
   "execution_count": 22,
   "metadata": {},
   "outputs": [
    {
     "name": "stdout",
     "output_type": "stream",
     "text": [
      "The lower bound of the confidence interval is  0.11 %\n",
      "The upper bound of the confidence interval is  0.0 %\n"
     ]
    }
   ],
   "source": [
    "#Test if we can reject the null hypothesis\n",
    "lower_bound_z = d_hat - margin_of_error\n",
    "upper_bound_z = d_hat + margin_of_error\n",
    "\n",
    "print(\"The lower bound of the confidence interval is \", round(lower_bound_z * 100, 2), \"%\")\n",
    "print(\"The upper bound of the confidence interval is \", round(upper_bound_z * 100, 2), \"%\")"
   ]
  },
  {
   "cell_type": "markdown",
   "metadata": {},
   "source": [
    "### Comparing mean booking values"
   ]
  },
  {
   "cell_type": "code",
   "execution_count": 23,
   "metadata": {},
   "outputs": [],
   "source": [
    "#Get the data for test\n",
    "mask = (df[\"experiment_variant_code\"] == \"CONTROL\")\n",
    "data_control = df[\"booking_gbv\"][mask]\n",
    "\n",
    "mask = (df[\"experiment_variant_code\"] == \"VARIANT\")\n",
    "data_variant = df[\"booking_gbv\"][mask]"
   ]
  },
  {
   "cell_type": "code",
   "execution_count": 24,
   "metadata": {},
   "outputs": [
    {
     "name": "stdout",
     "output_type": "stream",
     "text": [
      "Reject null hypothesis at p =  0.00233\n"
     ]
    }
   ],
   "source": [
    "t_stat, t_pval, t_df = sms.ttest_ind(data_control, data_variant, usevar = \"unequal\")\n",
    "if t_pval < confidence_level:\n",
    "    print(\"Reject null hypothesis at p = \", round(t_pval,5))\n",
    "else: \n",
    "    print(\"Do not reject the null hypothesis at p = \", round(t_pval,5))"
   ]
  },
  {
   "cell_type": "markdown",
   "metadata": {},
   "source": [
    "Because p-value is rather small (well below 0.05) we can conclude that the difference is greater than chance. Put\n",
    "another way, we can be about 99.8% sure that control designs and variant designs have different booking values — a level\n",
    "of certainty that falls within the usual criterion for claiming a significant difference. Control design's booking value of 52.66 is higher, and statistically distinguishable from Variant design's booking value of 50.12 at this sample size."
   ]
  },
  {
   "cell_type": "code",
   "execution_count": 25,
   "metadata": {},
   "outputs": [
    {
     "name": "stdout",
     "output_type": "stream",
     "text": [
      "The lower bound of the confidence interval is  0.9 %\n",
      "The upper bound of the confidence interval is  4.17 %\n"
     ]
    }
   ],
   "source": [
    "#Calculate nobs \n",
    "N1 = data_control.count()\n",
    "N2 = data_variant.count()\n",
    "\n",
    "#Calculate variance \n",
    "var1 = data_control.var()\n",
    "var2 = data_variant.var()\n",
    "\n",
    "#Calculate standard error\n",
    "stand_error = math.sqrt((var1/N1)+(var2/N2))\n",
    "diff_mean = data_control.mean() - data_variant.mean()\n",
    "alpha=0.05\n",
    "crit_val = st.t.ppf(1.0 - alpha/2, t_df)\n",
    "\n",
    "#Calculate lower and upper interval\n",
    "lower_bound_t = round(diff_mean-crit_val*stand_error,2)\n",
    "upper_bound_t = round(diff_mean+crit_val*stand_error,2)\n",
    "\n",
    "print(\"The lower bound of the confidence interval is \", lower_bound_t, \"%\")\n",
    "print(\"The upper bound of the confidence interval is \", upper_bound_t, \"%\")"
   ]
  },
  {
   "cell_type": "code",
   "execution_count": null,
   "metadata": {},
   "outputs": [],
   "source": []
  }
 ],
 "metadata": {
  "kernelspec": {
   "display_name": "Python 3",
   "language": "python",
   "name": "python3"
  },
  "language_info": {
   "codemirror_mode": {
    "name": "ipython",
    "version": 3
   },
   "file_extension": ".py",
   "mimetype": "text/x-python",
   "name": "python",
   "nbconvert_exporter": "python",
   "pygments_lexer": "ipython3",
   "version": "3.7.4"
  }
 },
 "nbformat": 4,
 "nbformat_minor": 2
}
